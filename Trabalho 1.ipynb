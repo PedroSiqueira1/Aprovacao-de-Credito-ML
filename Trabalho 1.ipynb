{
 "cells": [
  {
   "cell_type": "markdown",
   "id": "c47ed361",
   "metadata": {},
   "source": [
    "# Classificador para apoio à decisão de aprovação de crédito \n",
    "\n",
    "#### O projeto busca identificar, dentre clientes que solicitam um produto de crédito (como um cartão de crédito ou um empréstimo pessoal, por exemplo), aqueles que apresentem alto risco de não conseguirem honrar o pagamento, tornando-se inadimplentes."
   ]
  },
  {
   "cell_type": "markdown",
   "id": "b5dcfe58",
   "metadata": {},
   "source": [
    "### Importando bibliotecas"
   ]
  },
  {
   "cell_type": "code",
   "execution_count": 1,
   "id": "08e56734",
   "metadata": {},
   "outputs": [],
   "source": [
    "import pandas as pd\n",
    "import numpy as np\n",
    "from sklearn.neighbors import KNeighborsClassifier\n",
    "from sklearn.preprocessing import LabelBinarizer\n",
    "from sklearn.model_selection import train_test_split\n",
    "from sklearn.preprocessing import MinMaxScaler\n",
    "from sklearn.model_selection import cross_val_score\n",
    "from sklearn.metrics import confusion_matrix\n",
    "from sklearn.svm import SVC\n",
    "from sklearn.model_selection import GridSearchCV\n",
    "from sklearn.ensemble import RandomForestClassifier\n",
    "from sklearn.ensemble import GradientBoostingClassifier\n",
    "from sklearn.linear_model import LogisticRegression"
   ]
  },
  {
   "cell_type": "markdown",
   "id": "da23421e",
   "metadata": {},
   "source": [
    "### Importando dados"
   ]
  },
  {
   "cell_type": "code",
   "execution_count": 2,
   "id": "f112b3df",
   "metadata": {},
   "outputs": [],
   "source": [
    "dados = pd.read_csv(\"CreditoDados\\conjunto_de_treinamento.csv\")\n",
    "dados_teste = pd.read_csv(\"CreditoDados\\conjunto_de_teste.csv\")\n",
    "exemplo = pd.read_csv(\"CreditoDados\\exemplo_arquivo_respostas.csv\")"
   ]
  },
  {
   "cell_type": "markdown",
   "id": "3e5ac61c",
   "metadata": {},
   "source": [
    "### Limpando os dados\n",
    "\n",
    "#### Primeiramente foram retiradas as colunas indesejadas"
   ]
  },
  {
   "cell_type": "code",
   "execution_count": 3,
   "id": "96a3e13f",
   "metadata": {},
   "outputs": [],
   "source": [
    "dados.set_index('id_solicitante', inplace=True)\n",
    "dados = dados.drop(['grau_instrucao',   # Falha na extração\n",
    "                    'possui_telefone_celular',  # Falha na extração\n",
    "                    'qtde_contas_bancarias_especiais', # Idêntico a coluna 'qntde_contas_bancarias'\n",
    "                    'tipo_endereco',  # Vasta maioria com o atributo 1\n",
    "                    'codigo_area_telefone_residencial', # One hot encoding ficaria muito grande\n",
    "                    'estado_onde_trabalha', # Muitos valores vazios\n",
    "                    'codigo_area_telefone_trabalho', # Muitos valores vazios\n",
    "                    'meses_no_trabalho', # Vasta maioria com valor 0\n",
    "                    'profissao', # One Hot encoding muito grande\n",
    "                    'profissao_companheiro', # One Hot encoding muito grande\n",
    "                    'local_onde_reside', # One Hot encoding muito grande\n",
    "                    'local_onde_trabalha'],axis=1) # One Hot encoding muito grande\n",
    "\n",
    "\n",
    "\n",
    "dados_teste.set_index('id_solicitante', inplace=True)\n",
    "dados_teste = dados_teste.drop(['grau_instrucao',   # Falha na extração\n",
    "                    'possui_telefone_celular',  # Falha na extração\n",
    "                    'qtde_contas_bancarias_especiais', # Idêntico a coluna 'qntde_contas_bancarias'\n",
    "                    'tipo_endereco',  # Vasta maioria com o atributo 1\n",
    "                    'codigo_area_telefone_residencial', # One hot encoding ficaria muito grande\n",
    "                    'estado_onde_trabalha', # Muitos valores vazios\n",
    "                    'codigo_area_telefone_trabalho', # Muitos valores vazios\n",
    "                    'meses_no_trabalho', # Vasta maioria com valor 0\n",
    "                    'profissao', # One Hot encoding muito grande\n",
    "                    'profissao_companheiro', # One Hot encoding muito grande\n",
    "                    'local_onde_reside', # One Hot encoding muito grande\n",
    "                    'local_onde_trabalha' # One Hot encoding muito grande\n",
    "                    ],axis=1) "
   ]
  },
  {
   "cell_type": "markdown",
   "id": "a810a8b6",
   "metadata": {},
   "source": [
    "#### Depois foi feita uma análise para avaliar as colunas que deveriam ser modificadas"
   ]
  },
  {
   "cell_type": "code",
   "execution_count": null,
   "id": "0374be50",
   "metadata": {},
   "outputs": [],
   "source": [
    "dados.loc[dados['sexo'] == ' ','sexo'] = 'N' # Valores vazios são tratados como 'N'\n",
    "dados.loc[dados['idade'] < 17,'idade'] = 17 # Observações com menores de 17 anos foram consideradas erros de extração\n",
    "dados.loc[dados['qtde_dependentes'] > 14,'qtde_dependentes'] = 14 # Observações com maiores de 14 depedentes foram consideradas erros de extração\n",
    "dados.loc[dados['estado_onde_nasceu'] == ' ','estado_onde_nasceu'] = 'N'# Valores vazios são tratados como 'N'\n",
    "dados['grau_instrucao_companheiro'] = dados['grau_instrucao_companheiro'].fillna(0) # Valores nulos foram preenchidos com 0 pois era o valor predominante nas observações\n",
    "dados['ocupacao'] = dados['ocupacao'].fillna(2.0) # Valores nulos foram preenchidos com 2.0 pois era o valor predominante nas observações \n",
    "dados['meses_na_residencia'] = dados['meses_na_residencia'].fillna(10.0) # Valores nulos foram preenchidos com 10.0 pois era o valor predominante nas observações  \n",
    "\n",
    "dados_teste.loc[dados_teste['sexo'] == ' ','sexo'] = 'N' # Valores vazios são tratados como 'N'\n",
    "dados_teste.loc[dados_teste['idade'] < 17,'idade'] = 17 # Observações com menores de 17 anos foram consideradas erros de extração\n",
    "dados_teste.loc[dados_teste['qtde_dependentes'] > 14,'qtde_dependentes'] = 14 # Observações com maiores de 14 depedentes foram consideradas erros de extração\n",
    "dados_teste.loc[dados_teste['estado_onde_nasceu'] == ' ','estado_onde_nasceu'] = 'N' # Valores vazios são tratados como 'N'\n",
    "dados_teste['grau_instrucao_companheiro'] = dados_teste['grau_instrucao_companheiro'].fillna(0) # Valores nulos foram preenchidos com 0 pois era o valor predominante nas observações\n",
    "dados_teste['ocupacao'] = dados_teste['ocupacao'].fillna(2.0) # Valores nulos foram preenchidos com 2.0 pois era o valor predominante nas observações  \n",
    "dados_teste['meses_na_residencia'] = dados_teste['meses_na_residencia'].fillna(10.0)  # Valores nulos foram preenchidos com 10.0 pois era o valor predominante nas observações   "
   ]
  }
 ],
 "metadata": {
  "kernelspec": {
   "display_name": "Python 3",
   "language": "python",
   "name": "python3"
  },
  "language_info": {
   "codemirror_mode": {
    "name": "ipython",
    "version": 3
   },
   "file_extension": ".py",
   "mimetype": "text/x-python",
   "name": "python",
   "nbconvert_exporter": "python",
   "pygments_lexer": "ipython3",
   "version": "3.8.10"
  }
 },
 "nbformat": 4,
 "nbformat_minor": 5
}
